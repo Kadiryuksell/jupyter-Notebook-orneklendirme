{
 "cells": [
  {
   "cell_type": "code",
   "execution_count": null,
   "id": "87ddfd8a",
   "metadata": {},
   "outputs": [],
   "source": [
    "x = 10             # Değişken atamalarını yaptık.\n",
    "y = 5"
   ]
  },
  {
   "cell_type": "code",
   "execution_count": null,
   "id": "c28a1875",
   "metadata": {},
   "outputs": [],
   "source": [
    "print(\"Herkese Merhaba\")      # String olarak çıktı işlemidir.\n",
    "print(x,y,sep=' --- ')        # Tanımladığımız değerleri çıktı olarak yazdırma işlemidir."
   ]
  },
  {
   "cell_type": "code",
   "execution_count": null,
   "id": "a9a6eb57",
   "metadata": {},
   "outputs": [],
   "source": [
    "for i in range(1,8):\n",
    "    print(i)"
   ]
  },
  {
   "cell_type": "code",
   "execution_count": null,
   "id": "301cc4f9",
   "metadata": {},
   "outputs": [],
   "source": [
    "def ses():                    # Fonksiyon kullanımı.\n",
    " print(\"Miyav Miyav\")"
   ]
  },
  {
   "cell_type": "code",
   "execution_count": null,
   "id": "0cb92183",
   "metadata": {},
   "outputs": [],
   "source": [
    "ses()                        # fonksiyonu çalıştırmak"
   ]
  },
  {
   "cell_type": "code",
   "execution_count": null,
   "id": "107acd44",
   "metadata": {},
   "outputs": [],
   "source": [
    "def degerGonderme(sayi): # Gönderilen sayının karesini alan fonksiyon\n",
    "    return sayi**2"
   ]
  },
  {
   "cell_type": "code",
   "execution_count": null,
   "id": "72bbf419",
   "metadata": {},
   "outputs": [],
   "source": [
    "degerGonderme(10)                   # Fonksiyona sayı gönderdik"
   ]
  },
  {
   "cell_type": "markdown",
   "id": "a459b1bb",
   "metadata": {},
   "source": [
    "## Girilen sayının mükemmel sayı olup olmadığını kontrol eden program"
   ]
  },
  {
   "cell_type": "code",
   "execution_count": null,
   "id": "7e815100",
   "metadata": {},
   "outputs": [],
   "source": [
    "sayı = 496    # İstediğiniz br sayıyı giriniz"
   ]
  },
  {
   "cell_type": "code",
   "execution_count": null,
   "id": "7dc455aa",
   "metadata": {},
   "outputs": [],
   "source": [
    "toplam = 0           # Girilen sayının pozitif tam bolen sayılarının toplamını tutacaktır.\n",
    "\n",
    "for x in range(1,sayı):      # 1'den girilen sayıya kadar olan sayıları döndürecektir.\n",
    "    if(sayı%x ==0 ):         # Sayının pozitif tam bölen sayıları bulmayı sağlar.\n",
    "        toplam += x          # Pozitif tam bölen sayılarının toplamını alır.\n",
    "if(sayı == toplam):          # Sayı ve toplamın eşitliğini kontrol eder. \n",
    "    print(sayı,\"Sayısı mükemmel sayıdır.\")    \n",
    "else:                                               # İf bloğuna girmezse kesin buraya girecektir.\n",
    "    print(sayı,\"sayısı mükemmel sayı değildir.\")\n",
    "\n",
    "\n",
    "    "
   ]
  },
  {
   "cell_type": "markdown",
   "id": "796c66b8",
   "metadata": {},
   "source": [
    "## Fibonacci serisini oluşturmak "
   ]
  },
  {
   "cell_type": "code",
   "execution_count": null,
   "id": "24a54c8a",
   "metadata": {},
   "outputs": [],
   "source": [
    "def fibSerisi(n):        # Fibserisi adında bir fonksiyon oluturduk ve sınırını belirlemek için parametre göndereceğiz.\n",
    "    a,b = 0,1            # a ve b değişkenlerine atama yaptık.\n",
    "    while a<n:           # a ve n arasında bir döngü kurduk.\n",
    "        print(a,end=' ')   # Fibonacci serisi 0 1 1 2 ... şeklinde gittiği için ekrana iki sayı arasında ilk olanı ekrana yazdıracağız\n",
    "        a,b = b, a+b       # Serinin sağlanması için a değerine b'yi , b değerine de a+b yapmamız gerekiyor.\n",
    "        \n"
   ]
  },
  {
   "cell_type": "code",
   "execution_count": null,
   "id": "d20efd04",
   "metadata": {},
   "outputs": [],
   "source": [
    "fibSerisi(1000)       # İstenilen miktara göre fonksiyonun içine girme"
   ]
  }
 ],
 "metadata": {
  "kernelspec": {
   "display_name": "Python 3 (ipykernel)",
   "language": "python",
   "name": "python3"
  },
  "language_info": {
   "codemirror_mode": {
    "name": "ipython",
    "version": 3
   },
   "file_extension": ".py",
   "mimetype": "text/x-python",
   "name": "python",
   "nbconvert_exporter": "python",
   "pygments_lexer": "ipython3",
   "version": "3.10.2"
  }
 },
 "nbformat": 4,
 "nbformat_minor": 5
}
